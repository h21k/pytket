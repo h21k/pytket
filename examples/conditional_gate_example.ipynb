{
 "cells": [
  {
   "cell_type": "markdown",
   "metadata": {},
   "source": [
    "# Conditional Execution\n",
    "\n",
    "Whilst any quantum process can be created by performing \"pure\" operations delaying all measurements to the end, this is not always practical and can greatly increase the resource requirements. It is much more convenient to alternate quantum gates and measurements, especially if we can use the measurement results to determine which gates to apply (we refer to this more generic circuit model as \"mixed\" circuits, against the usual \"pure\" circuits). This is especially crucial for error correcting codes, where the correction gates are applied only if an error is detected.\n",
    "\n",
    "Measurements on many NISQ devices are often slow and it is hard to maintain other qubits in a quantum state during the measurement operation. Hence they may only support a single round of measurements at the end of the circuit, removing the need for conditional gate support. However, the ability to work with mid-circuit measurement and conditional gates is a feature in high demand for the future, and t|ket> is ready for it.\n",
    "\n",
    "Not every circuit language specification supports conditional gates in the same way. The most popular circuit model at the moment is that provided by the OpenQASM language. This permits a very restricted model of classical logic, where we can apply a gate conditionally on the exact value of a classical register. There is no facility in the current spec for Boolean logic or classical operations to apply any function to the value prior to the equality check.\n",
    "\n",
    "For example, quantum teleportation can be performed by the following QASM:\n",
    "\n",
    "```OPENQASM 2.0;\n",
    "include \"qelib1.inc\";\n",
    "qreg a[2];\n",
    "qreg b[1];\n",
    "creg c[2];\n",
    "// Bell state between Alice and Bob\n",
    "h a[1];\n",
    "cx a[1],b[0];\n",
    "// Bell measurement of Alice's qubits\n",
    "cx a[0],a[1];\n",
    "h a[0];\n",
    "measure a[0] -> c[0];\n",
    "measure a[1] -> c[1];\n",
    "// Correction of Bob's qubit\n",
    "if(c==1) z b[0];\n",
    "if(c==3) z b[0];\n",
    "if(c==2) x b[0];\n",
    "if(c==3) x b[0];\n",
    "```\n",
    "\n",
    "t|ket> supports a slightly more general form of conditional gates, where the gate is applied conditionally on the exact value of any list of bits. When adding a gate to a `Circuit` object, pass in the kwargs `condition_bits` and `condition_value` and the gate will only be applied if the state of the bits yields the binary representation of the value."
   ]
  },
  {
   "cell_type": "code",
   "execution_count": 1,
   "metadata": {},
   "outputs": [
    {
     "output_type": "execute_result",
     "data": {
      "text/plain": "[H a[1]; CX a[1], b[0]; CX a[0], a[1]; H a[0]; Measure a[1] --> c[1]; Measure a[0] --> c[0]; IF ([c[0]] == 1) THEN Z b[0]; IF ([c[1]] == 1) THEN X b[0]; ]"
     },
     "metadata": {},
     "execution_count": 1
    }
   ],
   "source": [
    "from pytket import Circuit\n",
    "\n",
    "c = Circuit()\n",
    "alice = c.add_q_register(\"a\", 2)\n",
    "bob = c.add_q_register(\"b\", 1)\n",
    "cr = c.add_c_register(\"c\", 2)\n",
    "\n",
    "# Bell state between Alice and Bob\n",
    "c.H(alice[1])\n",
    "c.CX(alice[1], bob[0])\n",
    "\n",
    "# Bell measurement of Alice's qubits\n",
    "c.CX(alice[0], alice[1])\n",
    "c.H(alice[0])\n",
    "c.Measure(alice[0], cr[0])\n",
    "c.Measure(alice[1], cr[1])\n",
    "\n",
    "# Correction of Bob's qubit\n",
    "c.Z(bob[0], condition_bits=[cr[0]], condition_value=1)\n",
    "c.X(bob[0], condition_bits=[cr[1]], condition_value=1)"
   ]
  },
  {
   "cell_type": "markdown",
   "metadata": {},
   "source": [
    "Performing individual gates conditionally is sufficient, but can get cumbersome for larger circuits. Fortunately, t|ket>'s Box structures can also be performed conditionally, enabling this to be applied to large circuits with ease.\n",
    "\n",
    "For the sake of example, assume our device struggles to perform $X$ gates. We can surround it by $CX$ gates onto an ancilla, so measuring the ancilla will either result in the identity or $X$ being applied to the target qubit. If we detect that the $X$ fails, we can retry."
   ]
  },
  {
   "cell_type": "code",
   "execution_count": 2,
   "metadata": {},
   "outputs": [
    {
     "output_type": "execute_result",
     "data": {
      "text/plain": "[CircBox t[0], a[0], s[0]; IF ([s[0]] == 0) THEN CircBox t[0], a[0], s[0]; ]"
     },
     "metadata": {},
     "execution_count": 2
    }
   ],
   "source": [
    "from pytket.circuit import CircBox, Qubit, Bit\n",
    "\n",
    "checked_x = Circuit(2, 1)\n",
    "checked_x.CX(0, 1)\n",
    "checked_x.X(0)\n",
    "checked_x.CX(0, 1)\n",
    "checked_x.Measure(1, 0)\n",
    "x_box = CircBox(checked_x)\n",
    "\n",
    "c = Circuit()\n",
    "target = Qubit(\"t\", 0)\n",
    "ancilla = Qubit(\"a\", 0)\n",
    "success = Bit(\"s\", 0)\n",
    "c.add_qubit(target)\n",
    "c.add_qubit(ancilla)\n",
    "c.add_bit(success)\n",
    "\n",
    "# Try the X gate\n",
    "c.add_circbox(x_box, args=[target, ancilla, success])\n",
    "# Try again if the X failed\n",
    "c.add_circbox(x_box, args=[target, ancilla, success], condition_bits=[success], condition_value=0)"
   ]
  },
  {
   "cell_type": "markdown",
   "metadata": {},
   "source": [
    "t|ket> is able to apply essential compilation passes on circuits containing conditional gates. This includes decomposing any boxes into primitive gates and rebasing to other gatesets whilst preserving the conditional data."
   ]
  },
  {
   "cell_type": "code",
   "execution_count": 3,
   "metadata": {},
   "outputs": [
    {
     "output_type": "execute_result",
     "data": {
      "text/plain": "[CX t[0], a[0]; U3(1*PI, 1.5*PI, 0.5*PI) t[0]; CX t[0], a[0]; Measure a[0] --> s[0]; IF ([s[0]] == 0) THEN CX t[0], a[0]; IF ([s[0]] == 0) THEN U3(1*PI, 1.5*PI, 0.5*PI) t[0]; IF ([s[0]] == 0) THEN CX t[0], a[0]; IF ([s[0]] == 0) THEN Measure a[0] --> s[0]; ]"
     },
     "metadata": {},
     "execution_count": 3
    }
   ],
   "source": [
    "from pytket.passes import DecomposeBoxes, RebaseIBM, SequencePass\n",
    "\n",
    "comp_pass = SequencePass([\n",
    "    DecomposeBoxes(),\n",
    "    RebaseIBM()\n",
    "])\n",
    "\n",
    "comp_pass.apply(c)\n",
    "\n",
    "c"
   ]
  },
  {
   "cell_type": "markdown",
   "metadata": {},
   "source": [
    "A t|ket> circuit can be converted to OpenQASM or other languages following the same classical model (e.g. Qiskit) when all conditional gates are dependent on the exact state of a single, whole classical register."
   ]
  },
  {
   "cell_type": "code",
   "execution_count": 4,
   "metadata": {},
   "outputs": [
    {
     "output_type": "stream",
     "name": "stdout",
     "text": "┌───┐                     ┌───┐┌─┐ ┌───┐                       ┌───┐ »\na_0: |0>┤ X ├─────────────────────┤ X ├┤M├─┤ X ├───────────────────────┤ X ├─»\n        └─┬─┘┌───────────────────┐└─┬─┘└╥┘ └─┬─┘ ┌───────────────────┐ └─┬─┘ »\nt_0: |0>──■──┤ U3(pi,3pi/2,pi/2) ├──■───╫────■───┤ U3(pi,3pi/2,pi/2) ├───■───»\n             └───────────────────┘      ║    │   └─────────┬─────────┘   │   »\n                                        ║ ┌──┴──┐       ┌──┴──┐       ┌──┴──┐»\n s_0: 0 ════════════════════════════════╩═╡ = 0 ╞═══════╡ = 0 ╞═══════╡ = 0 ╞»\n                                          └─────┘       └─────┘       └─────┘»\n«     ┌─┐\n«a_0: ┤M├\n«     └╥┘\n«t_0: ─╫─\n«      ║ \n«s_0: ═╩═\n«        \n"
    }
   ],
   "source": [
    "from pytket.qiskit import tk_to_qiskit\n",
    "\n",
    "qc = tk_to_qiskit(c)\n",
    "\n",
    "print(qc)"
   ]
  },
  {
   "cell_type": "markdown",
   "metadata": {},
   "source": [
    "This allows us to test our mixed programs using the `AerBackend`."
   ]
  },
  {
   "cell_type": "code",
   "execution_count": 5,
   "metadata": {},
   "outputs": [
    {
     "output_type": "stream",
     "name": "stdout",
     "text": "{(0,): 212, (1,): 812}\n"
    }
   ],
   "source": [
    "from pytket.backends.ibm import AerBackend\n",
    "\n",
    "c = Circuit(2, 1)\n",
    "c.Rx(0.3, 0)\n",
    "c.Measure(0, 0)\n",
    "# Set qubit 1 to be the opposite result and measure\n",
    "c.X(1, condition_bits=[0], condition_value=0)\n",
    "c.Measure(1, 0)\n",
    "\n",
    "backend = AerBackend()\n",
    "backend.compile_circuit(c)\n",
    "counts = backend.get_counts(c, 1024)\n",
    "print(counts)"
   ]
  },
  {
   "cell_type": "markdown",
   "metadata": {},
   "source": [
    "Beyond the ability to perform conditional gates, we might want to include more complex classical logic in the form of control flow, including loops, branching code, and jumps. Again, several proposed low-level quantum programming languages have sufficient expressivity to capture these, such as the Quil language.\n",
    "\n",
    "This control flow is hard to represent from within the circuit model, so t|ket> contains the `Program` class, which builds up a flow graph whose basic blocks are individual circuits. Currently, you can add conditional blocks and loops, where the conditions are whether an individual classical bit is 1."
   ]
  },
  {
   "cell_type": "code",
   "execution_count": 6,
   "metadata": {},
   "outputs": [
    {
     "output_type": "execute_result",
     "data": {
      "text/plain": "[CX q[0], q[1]; X q[0]; CX q[0], q[1]; Measure q[1] --> c[0]; Branch lab_0 c[0]; CX q[0], q[1]; X q[0]; CX q[0], q[1]; Measure q[1] --> c[0]; Goto lab_1; Label lab_0; Label lab_1; Stop; ]"
     },
     "metadata": {},
     "execution_count": 6
    }
   ],
   "source": [
    "from pytket.program import Program\n",
    "\n",
    "checked_x_p = Program(2, 1)\n",
    "checked_x_p.append_circuit(checked_x)\n",
    "\n",
    "p = Program(2, 1)\n",
    "p.append(checked_x_p)\n",
    "p.append_if_else(Bit(0), Program(2, 1), checked_x_p)\n",
    "\n",
    "p"
   ]
  },
  {
   "cell_type": "markdown",
   "metadata": {},
   "source": [
    "Support for compiling and optimising `Program`s and full classical data manipulation will be added in a future version of t|ket>."
   ]
  },
  {
   "cell_type": "markdown",
   "metadata": {},
   "source": [
    "Try out mid-circuit measurement and conditional gate support on the `AerBackend` simulator, or ask about accessing the `HoneywellBackend` to try on a hardware device."
   ]
  }
 ],
 "metadata": {
  "language_info": {
   "name": "python",
   "codemirror_mode": {
    "name": "ipython",
    "version": 3
   },
   "version": "3.7.7-final"
  },
  "orig_nbformat": 2,
  "file_extension": ".py",
  "mimetype": "text/x-python",
  "name": "python",
  "npconvert_exporter": "python",
  "pygments_lexer": "ipython3",
  "version": 3,
  "kernelspec": {
   "name": "python37764bit535569c1ee544a4e9cdacd35871f144d",
   "display_name": "Python 3.7.7 64-bit"
  }
 },
 "nbformat": 4,
 "nbformat_minor": 2
}